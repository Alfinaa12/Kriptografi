{
  "nbformat": 4,
  "nbformat_minor": 0,
  "metadata": {
    "colab": {
      "provenance": [],
      "authorship_tag": "ABX9TyMJ7nogb06zNzeKMV6gIUre"
    },
    "kernelspec": {
      "name": "python3",
      "display_name": "Python 3"
    },
    "language_info": {
      "name": "python"
    }
  },
  "cells": [
    {
      "cell_type": "code",
      "execution_count": 4,
      "metadata": {
        "colab": {
          "base_uri": "https://localhost:8080/",
          "height": 380
        },
        "id": "Cqfg2l4ME2CU",
        "outputId": "d4dfa079-f552-4d84-b932-c9c67743b34a"
      },
      "outputs": [
        {
          "output_type": "error",
          "ename": "KeyboardInterrupt",
          "evalue": "ignored",
          "traceback": [
            "\u001b[0;31m---------------------------------------------------------------------------\u001b[0m",
            "\u001b[0;31mKeyboardInterrupt\u001b[0m                         Traceback (most recent call last)",
            "\u001b[0;32m<ipython-input-4-6c0093122a99>\u001b[0m in \u001b[0;36m<cell line: 70>\u001b[0;34m()\u001b[0m\n\u001b[1;32m     68\u001b[0m \u001b[0;34m\u001b[0m\u001b[0m\n\u001b[1;32m     69\u001b[0m \u001b[0;31m# BISMILLAH JEBRET\u001b[0m\u001b[0;34m\u001b[0m\u001b[0;34m\u001b[0m\u001b[0m\n\u001b[0;32m---> 70\u001b[0;31m \u001b[0mplaintext\u001b[0m \u001b[0;34m=\u001b[0m \u001b[0minput\u001b[0m\u001b[0;34m(\u001b[0m\u001b[0;34m\"Masukkan plain text: \"\u001b[0m\u001b[0;34m)\u001b[0m\u001b[0;34m\u001b[0m\u001b[0;34m\u001b[0m\u001b[0m\n\u001b[0m\u001b[1;32m     71\u001b[0m \u001b[0mkey\u001b[0m \u001b[0;34m=\u001b[0m \u001b[0minput\u001b[0m\u001b[0;34m(\u001b[0m\u001b[0;34m\"Masukkan kunci: \"\u001b[0m\u001b[0;34m)\u001b[0m\u001b[0;34m\u001b[0m\u001b[0;34m\u001b[0m\u001b[0m\n\u001b[1;32m     72\u001b[0m \u001b[0;34m\u001b[0m\u001b[0m\n",
            "\u001b[0;32m/usr/local/lib/python3.9/dist-packages/ipykernel/kernelbase.py\u001b[0m in \u001b[0;36mraw_input\u001b[0;34m(self, prompt)\u001b[0m\n\u001b[1;32m    849\u001b[0m                 \u001b[0;34m\"raw_input was called, but this frontend does not support input requests.\"\u001b[0m\u001b[0;34m\u001b[0m\u001b[0;34m\u001b[0m\u001b[0m\n\u001b[1;32m    850\u001b[0m             )\n\u001b[0;32m--> 851\u001b[0;31m         return self._input_request(str(prompt),\n\u001b[0m\u001b[1;32m    852\u001b[0m             \u001b[0mself\u001b[0m\u001b[0;34m.\u001b[0m\u001b[0m_parent_ident\u001b[0m\u001b[0;34m,\u001b[0m\u001b[0;34m\u001b[0m\u001b[0;34m\u001b[0m\u001b[0m\n\u001b[1;32m    853\u001b[0m             \u001b[0mself\u001b[0m\u001b[0;34m.\u001b[0m\u001b[0m_parent_header\u001b[0m\u001b[0;34m,\u001b[0m\u001b[0;34m\u001b[0m\u001b[0;34m\u001b[0m\u001b[0m\n",
            "\u001b[0;32m/usr/local/lib/python3.9/dist-packages/ipykernel/kernelbase.py\u001b[0m in \u001b[0;36m_input_request\u001b[0;34m(self, prompt, ident, parent, password)\u001b[0m\n\u001b[1;32m    893\u001b[0m             \u001b[0;32mexcept\u001b[0m \u001b[0mKeyboardInterrupt\u001b[0m\u001b[0;34m:\u001b[0m\u001b[0;34m\u001b[0m\u001b[0;34m\u001b[0m\u001b[0m\n\u001b[1;32m    894\u001b[0m                 \u001b[0;31m# re-raise KeyboardInterrupt, to truncate traceback\u001b[0m\u001b[0;34m\u001b[0m\u001b[0;34m\u001b[0m\u001b[0m\n\u001b[0;32m--> 895\u001b[0;31m                 \u001b[0;32mraise\u001b[0m \u001b[0mKeyboardInterrupt\u001b[0m\u001b[0;34m(\u001b[0m\u001b[0;34m\"Interrupted by user\"\u001b[0m\u001b[0;34m)\u001b[0m \u001b[0;32mfrom\u001b[0m \u001b[0;32mNone\u001b[0m\u001b[0;34m\u001b[0m\u001b[0;34m\u001b[0m\u001b[0m\n\u001b[0m\u001b[1;32m    896\u001b[0m             \u001b[0;32mexcept\u001b[0m \u001b[0mException\u001b[0m \u001b[0;32mas\u001b[0m \u001b[0me\u001b[0m\u001b[0;34m:\u001b[0m\u001b[0;34m\u001b[0m\u001b[0;34m\u001b[0m\u001b[0m\n\u001b[1;32m    897\u001b[0m                 \u001b[0mself\u001b[0m\u001b[0;34m.\u001b[0m\u001b[0mlog\u001b[0m\u001b[0;34m.\u001b[0m\u001b[0mwarning\u001b[0m\u001b[0;34m(\u001b[0m\u001b[0;34m\"Invalid Message:\"\u001b[0m\u001b[0;34m,\u001b[0m \u001b[0mexc_info\u001b[0m\u001b[0;34m=\u001b[0m\u001b[0;32mTrue\u001b[0m\u001b[0;34m)\u001b[0m\u001b[0;34m\u001b[0m\u001b[0;34m\u001b[0m\u001b[0m\n",
            "\u001b[0;31mKeyboardInterrupt\u001b[0m: Interrupted by user"
          ]
        }
      ],
      "source": [
        "import re\n",
        "# Method untuk mempersiapkan teks plainteks sebelum dienkripsi\n",
        "def prepare_text(plaintext):\n",
        "    # Mengubah semua karakter menjadi huruf kecil dan mengganti 'j' dengan 'i'\n",
        "    plaintext = plaintext.lower().replace(\"j\", \"i\")\n",
        "    # Memilih hanya karakter alfabet saja\n",
        "    plaintext = \"\".join([c for c in plaintext if c.isalpha()])\n",
        "    # Jika panjang teks ganjil, tambahkan huruf 'x' di akhir teks\n",
        "    if len(plaintext) % 2 != 0:\n",
        "        plaintext += \"x\"\n",
        "    return plaintext\n",
        "\n",
        "# Method untuk mempersiapkan kunci sebelum digunakan untuk enkripsi\n",
        "def prepare_key(key):\n",
        "    # Mengubah semua karakter menjadi huruf kecil dan mengganti 'j' dengan 'i'\n",
        "    key = key.lower().replace(\"j\", \"i\")\n",
        "    # Memilih hanya karakter alfabet saja\n",
        "    key = \"\".join([c for c in key if c.isalpha()])\n",
        "    # Menghilangkan duplikasi huruf dan mengurutkan huruf berdasarkan kemunculannya di kunci\n",
        "    key = \"\".join(sorted(set(key), key=key.index))\n",
        "    # Menambahkan karakter yang tidak ada di kunci\n",
        "    alphabet = \"abcdefghiklmnopqrstuvwxyz\"\n",
        "    key += \"\".join([c for c in alphabet if c not in key])\n",
        "    # Membentuk matriks 5x5 dengan mengisinya berdasarkan kunci\n",
        "    key_matrix = [[0] * 5 for i in range(5)]\n",
        "    idx = 0\n",
        "    for i in range(5):\n",
        "        for j in range(5):\n",
        "            key_matrix[i][j] = key[idx]\n",
        "            idx += 1\n",
        "    return key_matrix\n",
        "\n",
        "# Method untuk mencari indeks suatu karakter dalam matriks kunci\n",
        "def find_char_index(matrix, char):\n",
        "    for i in range(5):\n",
        "        for j in range(5):\n",
        "            if matrix[i][j] == char:\n",
        "                return i, j\n",
        "    # Jika karakter tidak ditemukan, return (-1, -1)\n",
        "    return -1, -1\n",
        "\n",
        "# Method untuk melakukan enkripsi dengan menggunakan metode Playfair Cipher\n",
        "def encrypt(plaintext, key):\n",
        "    # Memanggil method prepare_text() dan prepare_key() untuk mempersiapkan plainteks dan kunci\n",
        "    plaintext = prepare_text(plaintext)\n",
        "    key_matrix = prepare_key(key)\n",
        "    ciphertext = \"\"\n",
        "    # Melakukan enkripsi pada setiap pasangan karakter di plainteks\n",
        "    for i in range(0, len(plaintext), 2):\n",
        "        c1 = plaintext[i]\n",
        "        c2 = plaintext[i+1]\n",
        "        # Mencari indeks masing-masing karakter dalam matriks kunci\n",
        "        row1, col1 = find_char_index(key_matrix, c1)\n",
        "        row2, col2 = find_char_index(key_matrix, c2)\n",
        "        # Jika kedua karakter berada dalam baris yang sama, digeser ke kanan sebanyak 1 kolom\n",
        "        if row1 == row2:\n",
        "            ciphertext += key_matrix[row1][(col1+1) % 5]\n",
        "            ciphertext += key_matrix[row2][(col2+1) % 5]\n",
        "        # Jika kedua karakter berada dalam kolom yang sama, digeser ke bawah sebanyak 1 baris\n",
        "        elif col1 == col2:\n",
        "            ciphertext += key_matrix[(row1+1) % 5][col1]\n",
        "            ciphertext += key_matrix[(row2+1) % 5][col2]\n",
        "        # Jika kedua karakter tidak berada pada baris atau kolom yang sama, maka dilakukan enkripsi dengan aturan mengganti baris dan kolom masing-masing karakter dengan baris dan kolom dari karakter lain di pojok yang berlawanan dari persegi.\n",
        "        else:\n",
        "            ciphertext += key_matrix[row1][col2]\n",
        "            ciphertext += key_matrix[row2][col1]\n",
        "    return ciphertext\n",
        "\n",
        "# BISMILLAH JEBRET\n",
        "plaintext = input(\"Masukkan plain text: \")\n",
        "key = input(\"Masukkan kunci: \")\n",
        "\n",
        "ciphertext = encrypt(plaintext, key)\n",
        "print(\"Ciphertext:\", ciphertext)\n"
      ]
    }
  ]
}